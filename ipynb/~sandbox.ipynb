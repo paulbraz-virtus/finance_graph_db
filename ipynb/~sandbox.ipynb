{
 "cells": [
  {
   "cell_type": "markdown",
   "metadata": {},
   "source": [
    "# Initialize"
   ]
  },
  {
   "cell_type": "markdown",
   "metadata": {},
   "source": [
    "## Imports"
   ]
  },
  {
   "cell_type": "code",
   "execution_count": 2,
   "metadata": {},
   "outputs": [
    {
     "name": "stdout",
     "output_type": "stream",
     "text": [
      "The autoreload extension is already loaded. To reload it, use:\n",
      "  %reload_ext autoreload\n"
     ]
    }
   ],
   "source": [
    "import sys; module_name = '..\\src'\n",
    "if module_name not in sys.path: sys.path.insert(0, module_name)\n",
    "\n",
    "import pandas as pd\n",
    "import numpy as np\n",
    "from pathlib import Path\n",
    "from pprint import pprint\n",
    "from neo4j import GraphDatabase, Session\n",
    "\n",
    "%load_ext autoreload"
   ]
  },
  {
   "cell_type": "code",
   "execution_count": 3,
   "metadata": {},
   "outputs": [],
   "source": [
    "%autoreload 2"
   ]
  },
  {
   "cell_type": "markdown",
   "metadata": {},
   "source": [
    "## Configure"
   ]
  },
  {
   "cell_type": "code",
   "execution_count": 4,
   "metadata": {},
   "outputs": [],
   "source": [
    "pd.set_option('display.max_rows', None)\n",
    "pd.set_option('display.max_columns', None)\n",
    "pd.set_option('display.max_colwidth', None)"
   ]
  },
  {
   "cell_type": "code",
   "execution_count": 5,
   "metadata": {},
   "outputs": [],
   "source": [
    "# TODO Authentication is disabled\n",
    "uri = \"bolt://127.0.0.1:7687\"\n",
    "user = \"neo4j\"\n",
    "pw = None\n",
    "pw = \"Mon_1028\"\n",
    "#pw = \"neo4j\""
   ]
  },
  {
   "cell_type": "markdown",
   "metadata": {},
   "source": [
    "## Define"
   ]
  },
  {
   "cell_type": "code",
   "execution_count": 6,
   "metadata": {},
   "outputs": [],
   "source": [
    "def build_merge_file_query(file_id:int, directory:str, file_name:str):\n",
    "    qry = f\"\"\"MERGE (f:File {{fileId:'{file_id}', directory:'{directory}', name:'{file_name}'}})\n",
    "        RETURN f\"\"\"\n",
    "    return qry\n",
    "\n",
    "def merge_file_node(trx:Session, file_id:int, directory:str, file_name:str):\n",
    "    qry = f\"\"\"MERGE (f:File {{fileId:'{file_id}', directory:'{directory}', name:'{file_name}'}})\n",
    "        RETURN f\"\"\"\n",
    "    print(qry)\n",
    "    result = trx.run(qry)\n",
    "    return result.values()"
   ]
  },
  {
   "cell_type": "code",
   "execution_count": 7,
   "metadata": {},
   "outputs": [],
   "source": [
    "def read_into_dataframe(session, qry):\n",
    "    result = session.run(qry)\n",
    "    df = result.to_df(expand=True)\n",
    "    return df\n",
    "\n",
    "def get_graph(session:Session, qry:str):\n",
    "    result = session.run(qry)\n",
    "    g = result.graph()\n",
    "    return g\n",
    "\n",
    "def delete_node(session:Session, id:int):\n",
    "    qry = f\"\"\"MATCH (n)\n",
    "        WHERE id(n)={id}\n",
    "        DETACH DELETE n\"\"\"\n",
    "    result = session.run(qry)\n",
    "    return result"
   ]
  },
  {
   "cell_type": "markdown",
   "metadata": {},
   "source": [
    "# Interact"
   ]
  },
  {
   "cell_type": "markdown",
   "metadata": {},
   "source": [
    "## Write"
   ]
  },
  {
   "cell_type": "code",
   "execution_count": null,
   "metadata": {},
   "outputs": [],
   "source": [
    "with GraphDatabase.driver(uri, auth=(user, pw)) as driver: \n",
    "    driver.verify_connectivity()\n",
    "    \n",
    "    with driver.session() as session:\n",
    "        qry = build_merge_file_query(2, \"directory\", \"file_name3\")\n",
    "        results = session.run(qry)\n",
    "        #results = session.execute_write(merge_file_node, 1, \"directory\", \"file_name\")\n",
    "        df = results.to_df(expand=True)\n",
    "        v = results.values()\n",
    "\n",
    "df"
   ]
  },
  {
   "cell_type": "markdown",
   "metadata": {},
   "source": [
    "## Read into dataframe"
   ]
  },
  {
   "cell_type": "code",
   "execution_count": 14,
   "metadata": {},
   "outputs": [
    {
     "data": {
      "text/html": [
       "<div>\n",
       "<style scoped>\n",
       "    .dataframe tbody tr th:only-of-type {\n",
       "        vertical-align: middle;\n",
       "    }\n",
       "\n",
       "    .dataframe tbody tr th {\n",
       "        vertical-align: top;\n",
       "    }\n",
       "\n",
       "    .dataframe thead th {\n",
       "        text-align: right;\n",
       "    }\n",
       "</style>\n",
       "<table border=\"1\" class=\"dataframe\">\n",
       "  <thead>\n",
       "    <tr style=\"text-align: right;\">\n",
       "      <th></th>\n",
       "      <th>name</th>\n",
       "    </tr>\n",
       "  </thead>\n",
       "  <tbody>\n",
       "    <tr>\n",
       "      <th>0</th>\n",
       "      <td>Michael Angerthal</td>\n",
       "    </tr>\n",
       "    <tr>\n",
       "      <th>1</th>\n",
       "      <td>Danielle Vasilakos</td>\n",
       "    </tr>\n",
       "    <tr>\n",
       "      <th>2</th>\n",
       "      <td>Christopher Palumbo</td>\n",
       "    </tr>\n",
       "    <tr>\n",
       "      <th>3</th>\n",
       "      <td>Henry Hardaway</td>\n",
       "    </tr>\n",
       "    <tr>\n",
       "      <th>4</th>\n",
       "      <td>David Hanley</td>\n",
       "    </tr>\n",
       "    <tr>\n",
       "      <th>5</th>\n",
       "      <td>Mark Moots</td>\n",
       "    </tr>\n",
       "    <tr>\n",
       "      <th>6</th>\n",
       "      <td>Nicole Stephenson</td>\n",
       "    </tr>\n",
       "    <tr>\n",
       "      <th>7</th>\n",
       "      <td>Lina Patel</td>\n",
       "    </tr>\n",
       "    <tr>\n",
       "      <th>8</th>\n",
       "      <td>Robyn Battles</td>\n",
       "    </tr>\n",
       "    <tr>\n",
       "      <th>9</th>\n",
       "      <td>David Pellerin</td>\n",
       "    </tr>\n",
       "    <tr>\n",
       "      <th>10</th>\n",
       "      <td>Tina Long</td>\n",
       "    </tr>\n",
       "    <tr>\n",
       "      <th>11</th>\n",
       "      <td>Carl Sun</td>\n",
       "    </tr>\n",
       "    <tr>\n",
       "      <th>12</th>\n",
       "      <td>Scott Hogan</td>\n",
       "    </tr>\n",
       "  </tbody>\n",
       "</table>\n",
       "</div>"
      ],
      "text/plain": [
       "                   name\n",
       "0     Michael Angerthal\n",
       "1    Danielle Vasilakos\n",
       "2   Christopher Palumbo\n",
       "3        Henry Hardaway\n",
       "4          David Hanley\n",
       "5            Mark Moots\n",
       "6     Nicole Stephenson\n",
       "7            Lina Patel\n",
       "8         Robyn Battles\n",
       "9        David Pellerin\n",
       "10            Tina Long\n",
       "11             Carl Sun\n",
       "12          Scott Hogan"
      ]
     },
     "execution_count": 14,
     "metadata": {},
     "output_type": "execute_result"
    }
   ],
   "source": [
    "qry = \"\"\"MATCH (n:Person) RETURN n.name AS name\"\"\"\n",
    "\n",
    "with GraphDatabase.driver(uri, auth=(user, pw)) as driver: \n",
    "    driver.verify_connectivity()\n",
    "    \n",
    "    with driver.session() as session:\n",
    "        df = read_into_dataframe(session, qry)\n",
    "    \n",
    "    with driver.session() as session:\n",
    "        graph = get_graph(session, qry)\n",
    "    \n",
    "df"
   ]
  },
  {
   "cell_type": "code",
   "execution_count": 11,
   "metadata": {},
   "outputs": [
    {
     "ename": "KeyError",
     "evalue": "0",
     "output_type": "error",
     "traceback": [
      "\u001b[1;31m---------------------------------------------------------------------------\u001b[0m",
      "\u001b[1;31mKeyError\u001b[0m                                  Traceback (most recent call last)",
      "Cell \u001b[1;32mIn[11], line 1\u001b[0m\n\u001b[1;32m----> 1\u001b[0m [(k, v) \u001b[39mfor\u001b[39;00m k, v \u001b[39min\u001b[39;00m graph\u001b[39m.\u001b[39;49mnodes[\u001b[39m0\u001b[39;49m]\u001b[39m.\u001b[39mitems()]\n",
      "File \u001b[1;32mc:\\_finance\\finance_graph_db\\.venv\\lib\\site-packages\\neo4j\\graph\\__init__.py:215\u001b[0m, in \u001b[0;36mEntitySetView.__getitem__\u001b[1;34m(self, e_id)\u001b[0m\n\u001b[0;32m    210\u001b[0m \u001b[39mif\u001b[39;00m \u001b[39misinstance\u001b[39m(e_id, (\u001b[39mint\u001b[39m, \u001b[39mfloat\u001b[39m, \u001b[39mcomplex\u001b[39m)):\n\u001b[0;32m    211\u001b[0m     deprecation_warn(\n\u001b[0;32m    212\u001b[0m         \u001b[39m\"\u001b[39m\u001b[39mAccessing entities by an integer id is deprecated, \u001b[39m\u001b[39m\"\u001b[39m\n\u001b[0;32m    213\u001b[0m         \u001b[39m\"\u001b[39m\u001b[39muse the new style element_id (str) instead\u001b[39m\u001b[39m\"\u001b[39m\n\u001b[0;32m    214\u001b[0m     )\n\u001b[1;32m--> 215\u001b[0m     \u001b[39mreturn\u001b[39;00m \u001b[39mself\u001b[39;49m\u001b[39m.\u001b[39;49m_legacy_entity_dict[e_id]\n\u001b[0;32m    216\u001b[0m \u001b[39mreturn\u001b[39;00m \u001b[39mself\u001b[39m\u001b[39m.\u001b[39m_entity_dict[e_id]\n",
      "\u001b[1;31mKeyError\u001b[0m: 0"
     ]
    }
   ],
   "source": []
  },
  {
   "cell_type": "code",
   "execution_count": null,
   "metadata": {},
   "outputs": [],
   "source": [
    "with GraphDatabase.driver(uri, auth=(user, pw)) as driver: \n",
    "    with driver.session() as session:\n",
    "        r = delete_node(session, 0)"
   ]
  },
  {
   "cell_type": "code",
   "execution_count": null,
   "metadata": {},
   "outputs": [],
   "source": [
    "r.consume().query"
   ]
  },
  {
   "cell_type": "code",
   "execution_count": null,
   "metadata": {},
   "outputs": [],
   "source": []
  }
 ],
 "metadata": {
  "kernelspec": {
   "display_name": "Python 3.10.7 ('.venv': pipenv)",
   "language": "python",
   "name": "python3"
  },
  "language_info": {
   "codemirror_mode": {
    "name": "ipython",
    "version": 3
   },
   "file_extension": ".py",
   "mimetype": "text/x-python",
   "name": "python",
   "nbconvert_exporter": "python",
   "pygments_lexer": "ipython3",
   "version": "3.10.7"
  },
  "orig_nbformat": 4,
  "vscode": {
   "interpreter": {
    "hash": "bb0ee515f89d644f8b60748d2b57e92766b8d43d5ce60c2891419399496609d6"
   }
  }
 },
 "nbformat": 4,
 "nbformat_minor": 2
}
