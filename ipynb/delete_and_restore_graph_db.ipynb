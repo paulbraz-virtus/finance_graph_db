{
 "cells": [
  {
   "cell_type": "markdown",
   "metadata": {},
   "source": [
    "# Initialize"
   ]
  },
  {
   "cell_type": "markdown",
   "metadata": {},
   "source": [
    "## Imports"
   ]
  },
  {
   "cell_type": "code",
   "execution_count": null,
   "metadata": {},
   "outputs": [],
   "source": [
    "import sys; module_name = '..\\src'\n",
    "if module_name not in sys.path: sys.path.insert(0, module_name)\n",
    "\n",
    "from pathlib import Path\n",
    "\n",
    "%load_ext autoreload"
   ]
  },
  {
   "cell_type": "code",
   "execution_count": null,
   "metadata": {},
   "outputs": [],
   "source": [
    "%autoreload 2\n",
    "from graph_db_util import execute_cypher_query, delete_graph_db, restore_graph_db"
   ]
  },
  {
   "attachments": {},
   "cell_type": "markdown",
   "metadata": {},
   "source": [
    "# Interact"
   ]
  },
  {
   "attachments": {},
   "cell_type": "markdown",
   "metadata": {},
   "source": [
    "## Delete and restore the database"
   ]
  },
  {
   "cell_type": "code",
   "execution_count": null,
   "metadata": {},
   "outputs": [],
   "source": [
    "#p = Path('..\\src\\cql')\n",
    "#[f.name for f in p.glob('*.cql')]"
   ]
  },
  {
   "cell_type": "code",
   "execution_count": null,
   "metadata": {},
   "outputs": [],
   "source": [
    "# files are ordered in the sequence they must be executed in\n",
    "files = ('domain_Finance.cql'\n",
    "         ,'org_finance.cql'\n",
    "         ,'org_it_apps.cql'\n",
    "         ,'busterm_finance.cql'\n",
    "         ,'entities_and_systems_finance.cql'\n",
    "         ,'app_ManagementFees.cql'\n",
    "         #,'app_RevportAdmin.cql'\n",
    "         # #,'app_AUM.cql'\n",
    "         # #,'app_Commissions.cql'\n",
    "         # #,'app_StateTax.cql'\n",
    "         # #,'Queries.cql'\n",
    "         # #,'sys_Revport.cql'\n",
    "         # #,'sys_Workday.cql'\n",
    "         )\n",
    "\n",
    "p = Path('..\\src\\cql')\n",
    "file_paths = [p / f for f in files]\n",
    "\n",
    "delete_graph_db()\n",
    "\n",
    "restore_graph_db(file_paths)"
   ]
  },
  {
   "cell_type": "code",
   "execution_count": null,
   "metadata": {},
   "outputs": [],
   "source": []
  },
  {
   "cell_type": "code",
   "execution_count": null,
   "metadata": {},
   "outputs": [],
   "source": []
  }
 ],
 "metadata": {
  "kernelspec": {
   "display_name": ".venv",
   "language": "python",
   "name": "python3"
  },
  "language_info": {
   "codemirror_mode": {
    "name": "ipython",
    "version": 3
   },
   "file_extension": ".py",
   "mimetype": "text/x-python",
   "name": "python",
   "nbconvert_exporter": "python",
   "pygments_lexer": "ipython3",
   "version": "3.10.7"
  },
  "orig_nbformat": 4,
  "vscode": {
   "interpreter": {
    "hash": "bb0ee515f89d644f8b60748d2b57e92766b8d43d5ce60c2891419399496609d6"
   }
  }
 },
 "nbformat": 4,
 "nbformat_minor": 2
}
