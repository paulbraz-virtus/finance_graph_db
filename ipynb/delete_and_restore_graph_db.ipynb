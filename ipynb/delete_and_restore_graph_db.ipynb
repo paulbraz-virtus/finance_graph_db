{
 "cells": [
  {
   "cell_type": "markdown",
   "metadata": {},
   "source": [
    "# Initialize"
   ]
  },
  {
   "cell_type": "markdown",
   "metadata": {},
   "source": [
    "## Imports"
   ]
  },
  {
   "cell_type": "code",
   "execution_count": null,
   "metadata": {},
   "outputs": [],
   "source": [
    "import sys; module_name = '..\\src'\n",
    "if module_name not in sys.path: sys.path.insert(0, module_name)\n",
    "\n",
    "import pandas as pd\n",
    "import numpy as np\n",
    "from pathlib import Path\n",
    "from pprint import pprint\n",
    "from neo4j import GraphDatabase, Session\n",
    "\n",
    "%load_ext autoreload"
   ]
  },
  {
   "cell_type": "code",
   "execution_count": null,
   "metadata": {},
   "outputs": [],
   "source": [
    "%autoreload 2\n"
   ]
  },
  {
   "cell_type": "markdown",
   "metadata": {},
   "source": [
    "## Configure"
   ]
  },
  {
   "cell_type": "code",
   "execution_count": null,
   "metadata": {},
   "outputs": [],
   "source": [
    "pd.set_option('display.max_rows', None)\n",
    "pd.set_option('display.max_columns', None)\n",
    "pd.set_option('display.max_colwidth', None)"
   ]
  },
  {
   "cell_type": "code",
   "execution_count": null,
   "metadata": {},
   "outputs": [],
   "source": [
    "# Neo4J settings\n",
    "uri = \"bolt://127.0.0.1:7687\"\n",
    "user = \"neo4j\"\n",
    "pw = \"Mon_1028\""
   ]
  },
  {
   "cell_type": "markdown",
   "metadata": {},
   "source": [
    "## Define"
   ]
  },
  {
   "cell_type": "code",
   "execution_count": null,
   "metadata": {},
   "outputs": [],
   "source": [
    "def read_into_dataframe(session, qry):\n",
    "    result = session.run(qry)\n",
    "    df = result.to_df(expand=True)\n",
    "    return df\n",
    "\n",
    "\n",
    "def read_cypher_query(qry):\n",
    "    with GraphDatabase.driver(uri, auth=(user, pw)) as driver: \n",
    "        with driver.session() as session:\n",
    "            df = read_into_dataframe(session, qry)\n",
    "    return df\n",
    "\n",
    "\n",
    "def execute_cypher_query(qry):\n",
    "    with GraphDatabase.driver(uri, auth=(user, pw)) as driver: \n",
    "        with driver.session() as session:\n",
    "            result = session.run(qry)"
   ]
  },
  {
   "attachments": {},
   "cell_type": "markdown",
   "metadata": {},
   "source": [
    "# Interact"
   ]
  },
  {
   "attachments": {},
   "cell_type": "markdown",
   "metadata": {},
   "source": [
    "## Delete and restore the database"
   ]
  },
  {
   "cell_type": "code",
   "execution_count": null,
   "metadata": {},
   "outputs": [],
   "source": [
    "p = Path('..\\src\\cql')\n",
    "[f.name for f in p.glob('*.cql')]"
   ]
  },
  {
   "cell_type": "code",
   "execution_count": null,
   "metadata": {},
   "outputs": [],
   "source": [
    "\n",
    "qry = \"MATCH (n) DETACH DELETE n\"\n",
    "execute_cypher_query(qry)\n",
    "\n",
    "files = ('domain_Finance.cql'\n",
    "           ,'org_finance.cql'\n",
    "           ,'org_it_apps.cql'\n",
    "           ,'busterm_finance.cql'\n",
    "           ,'entities_and_systems_finance.cql'\n",
    "           ,'app_ManagementFees.cql'\n",
    "           #,'app_RevportAdmin.cql'\n",
    "           #,'app_AUM.cql'\n",
    "           #,'app_Commissions.cql'\n",
    "           #,'app_StateTax.cql'\n",
    "           #,'Queries.cql'\n",
    "           #,'sys_Revport.cql'\n",
    "           #,'sys_Workday.cql'\n",
    "           )\n",
    "\n",
    "for f in files:\n",
    "    file_path = p / f\n",
    "    with open(file_path, mode='r') as s:\n",
    "        print(file_path.name)\n",
    "        cql = s.read()\n",
    "        execute_cypher_query(cql)"
   ]
  },
  {
   "cell_type": "code",
   "execution_count": null,
   "metadata": {},
   "outputs": [],
   "source": []
  }
 ],
 "metadata": {
  "kernelspec": {
   "display_name": ".venv",
   "language": "python",
   "name": "python3"
  },
  "language_info": {
   "codemirror_mode": {
    "name": "ipython",
    "version": 3
   },
   "file_extension": ".py",
   "mimetype": "text/x-python",
   "name": "python",
   "nbconvert_exporter": "python",
   "pygments_lexer": "ipython3",
   "version": "3.10.7"
  },
  "orig_nbformat": 4,
  "vscode": {
   "interpreter": {
    "hash": "bb0ee515f89d644f8b60748d2b57e92766b8d43d5ce60c2891419399496609d6"
   }
  }
 },
 "nbformat": 4,
 "nbformat_minor": 2
}
