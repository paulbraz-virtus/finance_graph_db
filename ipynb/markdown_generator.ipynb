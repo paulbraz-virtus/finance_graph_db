{
 "cells": [
  {
   "cell_type": "markdown",
   "metadata": {},
   "source": [
    "# Initialize"
   ]
  },
  {
   "cell_type": "markdown",
   "metadata": {},
   "source": [
    "## Imports"
   ]
  },
  {
   "cell_type": "code",
   "execution_count": 1,
   "metadata": {},
   "outputs": [],
   "source": [
    "import sys; module_name = '..\\src'\n",
    "if module_name not in sys.path: sys.path.insert(0, module_name)\n",
    "\n",
    "import pandas as pd\n",
    "import numpy as np\n",
    "from pathlib import Path\n",
    "from pprint import pprint\n",
    "from jinja2 import Environment, FileSystemLoader\n",
    "\n",
    "%load_ext autoreload"
   ]
  },
  {
   "cell_type": "code",
   "execution_count": 2,
   "metadata": {},
   "outputs": [],
   "source": [
    "%autoreload 2\n",
    "from graph_db_util import read_cypher_query"
   ]
  },
  {
   "cell_type": "markdown",
   "metadata": {},
   "source": [
    "## Configure"
   ]
  },
  {
   "cell_type": "code",
   "execution_count": 9,
   "metadata": {},
   "outputs": [],
   "source": [
    "pd.set_option('display.max_rows', None)\n",
    "pd.set_option('display.max_columns', None)\n",
    "pd.set_option('display.max_colwidth', None)"
   ]
  },
  {
   "cell_type": "code",
   "execution_count": 10,
   "metadata": {},
   "outputs": [],
   "source": [
    "# jinja settings\n",
    "environment = Environment(loader=FileSystemLoader(\"../src/templates/\"))"
   ]
  },
  {
   "cell_type": "markdown",
   "metadata": {},
   "source": [
    "## Define"
   ]
  },
  {
   "attachments": {},
   "cell_type": "markdown",
   "metadata": {},
   "source": [
    "# Generate a TOC for the domain"
   ]
  },
  {
   "attachments": {},
   "cell_type": "markdown",
   "metadata": {},
   "source": [
    "## Get the data"
   ]
  },
  {
   "cell_type": "code",
   "execution_count": 11,
   "metadata": {},
   "outputs": [
    {
     "data": {
      "text/plain": [
       "{'AUM', 'Management Fees'}"
      ]
     },
     "execution_count": 11,
     "metadata": {},
     "output_type": "execute_result"
    }
   ],
   "source": [
    "domain_name = 'Finance'\n",
    "\n",
    "# get all business processes owned directly by finance\n",
    "qry = f\"\"\"MATCH (:Domain {{name:'{domain_name}'}})-[:OWNS]-(bp:BusinessProcess)\n",
    "RETURN bp.name as name\"\"\"\n",
    "df = read_cypher_query(qry)\n",
    "bp1 = set(df['name'])\n",
    "\n",
    "# get all business processes owned by any sub-domain of finance\n",
    "qry = f\"\"\"MATCH (:Domain {{name:'{domain_name}'}})-[:PARENT*1..]-(d)\n",
    "MATCH (d)-[:OWNS]-(bp:BusinessProcess)\n",
    "RETURN bp.name as name\"\"\" # TODO test path depth > 1\n",
    "df = read_cypher_query(qry)\n",
    "bp2 = set(df['name'])\n",
    "business_processes = set.union(bp1, bp2)\n",
    "business_processes"
   ]
  },
  {
   "cell_type": "code",
   "execution_count": 12,
   "metadata": {},
   "outputs": [
    {
     "data": {
      "text/plain": [
       "{'AUM',\n",
       " 'Cash Flows',\n",
       " 'Commission Payments',\n",
       " 'Customers',\n",
       " 'Expenses',\n",
       " 'FX Rates',\n",
       " 'Revenue'}"
      ]
     },
     "execution_count": 12,
     "metadata": {},
     "output_type": "execute_result"
    }
   ],
   "source": [
    "qry = f\"\"\"MATCH (p:Domain {{name:'{domain_name}'}})-[:PARENT]-(c:Domain) RETURN c.name AS name\"\"\"\n",
    "df = read_cypher_query(qry)\n",
    "data_domains = set(df['name'])\n",
    "data_domains"
   ]
  },
  {
   "cell_type": "code",
   "execution_count": 13,
   "metadata": {},
   "outputs": [
    {
     "data": {
      "text/plain": [
       "{'Commissions App',\n",
       " 'Management Fees App',\n",
       " 'Revport Admin App',\n",
       " 'State Tax App'}"
      ]
     },
     "execution_count": 13,
     "metadata": {},
     "output_type": "execute_result"
    }
   ],
   "source": [
    "qry = f\"\"\"MATCH (p:Domain)-[:OWNS]-(c:System) RETURN c.name AS name\"\"\"\n",
    "df = read_cypher_query(qry)\n",
    "systems = set(df['name'])\n",
    "\n",
    "qry = f\"\"\"MATCH (p:Domain)-[:OWNS]-(c:App) RETURN c.name AS name\"\"\"\n",
    "df = read_cypher_query(qry)\n",
    "applications = set(df['name'])\n",
    "applications"
   ]
  },
  {
   "attachments": {},
   "cell_type": "markdown",
   "metadata": {},
   "source": [
    "## Generate the markdown"
   ]
  },
  {
   "cell_type": "code",
   "execution_count": 14,
   "metadata": {},
   "outputs": [
    {
     "name": "stdout",
     "output_type": "stream",
     "text": [
      "# Finance TOC\n",
      "\n",
      "## Business Processes\n",
      "\n",
      "- [Management Fees](/Management-Fees.md)\n",
      "- [AUM](/AUM.md)\n",
      "\n",
      "## Systems\n",
      "\n",
      "- [Revport](/Revport.md)\n",
      "- [TM1](/TM1.md)\n",
      "\n",
      "## Applications\n",
      "\n",
      "- [Commissions App](/Commissions-App.md)\n",
      "- [Management Fees App](/Management-Fees-App.md)\n",
      "- [Revport Admin App](/Revport-Admin-App.md)\n",
      "- [State Tax App](/State-Tax-App.md)\n",
      "\n",
      "## Data\n",
      "\n",
      "- [Commission Payments](/Commission-Payments.md)\n",
      "- [AUM](/AUM.md)\n",
      "- [Revenue](/Revenue.md)\n",
      "- [Expenses](/Expenses.md)\n",
      "- [FX Rates](/FX-Rates.md)\n",
      "- [Customers](/Customers.md)\n",
      "- [Cash Flows](/Cash-Flows.md)\n"
     ]
    }
   ],
   "source": [
    "template = environment.get_template(\"domain.j2\")\n",
    "content = template.render(domain_name=domain_name\n",
    "                          ,business_processes=business_processes\n",
    "                          ,systems=systems\n",
    "                          ,data_domains=data_domains\n",
    "                          ,applications=applications)\n",
    "\n",
    "print(content)"
   ]
  },
  {
   "attachments": {},
   "cell_type": "markdown",
   "metadata": {},
   "source": [
    "## Publish the markdown"
   ]
  },
  {
   "cell_type": "code",
   "execution_count": null,
   "metadata": {},
   "outputs": [],
   "source": [
    "md_path = Path(r\"..\\markdown\")\n",
    "file_path = md_path / f'{domain_name}-Domain.md'\n",
    "\n",
    "with open(file_path, mode='w') as f:\n",
    "    f.write(content)"
   ]
  },
  {
   "attachments": {},
   "cell_type": "markdown",
   "metadata": {},
   "source": [
    "# Generate Markdown for Business Processes"
   ]
  },
  {
   "cell_type": "markdown",
   "metadata": {},
   "source": []
  }
 ],
 "metadata": {
  "kernelspec": {
   "display_name": ".venv",
   "language": "python",
   "name": "python3"
  },
  "language_info": {
   "codemirror_mode": {
    "name": "ipython",
    "version": 3
   },
   "file_extension": ".py",
   "mimetype": "text/x-python",
   "name": "python",
   "nbconvert_exporter": "python",
   "pygments_lexer": "ipython3",
   "version": "3.10.7"
  },
  "orig_nbformat": 4,
  "vscode": {
   "interpreter": {
    "hash": "bb0ee515f89d644f8b60748d2b57e92766b8d43d5ce60c2891419399496609d6"
   }
  }
 },
 "nbformat": 4,
 "nbformat_minor": 2
}
